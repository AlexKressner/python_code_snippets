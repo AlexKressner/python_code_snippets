{
 "cells": [
  {
   "cell_type": "code",
   "execution_count": 1,
   "metadata": {},
   "outputs": [],
   "source": [
    "import pandas as pd\n",
    "import re\n",
    "import collections\n",
    "import numpy as np"
   ]
  },
  {
   "cell_type": "code",
   "execution_count": 2,
   "metadata": {},
   "outputs": [],
   "source": [
    "@pd.api.extensions.register_series_accessor(\"dvp\")\n",
    "class DVP:\n",
    "    def __init__(self, pandas_obj):\n",
    "        self._obj = pandas_obj\n",
    "    \n",
    "    @staticmethod\n",
    "    def get_pattern(string, regex=False):\n",
    "        \"\"\"\n",
    "        Using regex the pattern for each element of a string is derived, using the following convention\n",
    "        digits : d\n",
    "        letter (lower case) : a\n",
    "        letter (upper case) : A\n",
    "        space : s\n",
    "        special character : *\n",
    "\n",
    "        For example, the string 'python101' is represented by the pattern 'aaaaaaddd'. \n",
    "        \"\"\"\n",
    "        \n",
    "        string = str(string)\n",
    "        pattern = {j : 'd' for i in re.finditer(r'\\d+', string) for j in range(i.start(),i.end())}\n",
    "        pattern = {**pattern, **{j : 'a' for i in re.finditer(r'[a-z]+', string) for j in range(i.start(),i.end())}}\n",
    "        pattern = {**pattern, **{j : 'A' for i in re.finditer(r'[A-Z]+', string) for j in range(i.start(),i.end())}}\n",
    "        pattern = {**pattern, **{j : 's' for i in re.finditer(r'\\s+', string) for j in range(i.start(),i.end())}}\n",
    "        pattern = {**pattern, **{j : '*' for i in re.finditer(r'[^\\w\\s]', string) for j in range(i.start(),i.end())}}\n",
    "        if regex:\n",
    "            regex_dict = {'d':'\\d', 'a':'[a-z]', 'A':'[A-Z]', 's':'\\s', '*':'[^\\w\\s]'}\n",
    "            pattern = {i : regex_dict[pattern[i]] for i in pattern.keys()}\n",
    "\n",
    "        return(''.join(collections.OrderedDict(sorted(pattern.items())).values()))\n",
    "    \n",
    "    def pattern_counts(self, regex=False, normalize=False, sort=True, ascending=False, bins=None):\n",
    "        \"\"\"\n",
    "        Returns object containing counts of unique patterns.\n",
    "        \n",
    "        The resulting object will be in descending order so that the\n",
    "        first element is the most frequently-occurring element.\n",
    "        Excludes NA values.\n",
    "        \n",
    "        A pattern is a meta description of values in the series. Each element in the series is transforemd to a string. \n",
    "        From there a pattern is derived atomically applying the following rule,\n",
    "        digits : d\n",
    "        letter (lower case) : a\n",
    "        letter (upper case) : A\n",
    "        space : s\n",
    "        special character : *\n",
    "\n",
    "        Parameters\n",
    "        ----------\n",
    "        normalize : boolean, default False\n",
    "            If True then the object returned will contain the relative\n",
    "            frequencies of the unique patterns.\n",
    "        sort : boolean, default True\n",
    "            Sort by values\n",
    "        ascending : boolean, default False\n",
    "            Sort in ascending order\n",
    "        bins : integer, optional\n",
    "            Rather than count values, group them into half-open bins,\n",
    "            a convenience for pd.cut, only works with numeric data\n",
    "\n",
    "        Returns\n",
    "        -------\n",
    "        counts : Series\n",
    "        \"\"\"\n",
    "        \n",
    "        series =  self._obj.dropna().apply(lambda x: self.get_pattern(x, regex=regex))\n",
    "        return series.value_counts(sort=sort, ascending=ascending, normalize=normalize, bins=bins)"
   ]
  },
  {
   "cell_type": "code",
   "execution_count": 3,
   "metadata": {},
   "outputs": [],
   "source": [
    "sample = pd.DataFrame({'string':[\"c't\",\"Sprach . fahrplan\",\"c#q\",12, '', 'äa','   ', np.nan]})"
   ]
  },
  {
   "cell_type": "code",
   "execution_count": 4,
   "metadata": {},
   "outputs": [
    {
     "output_type": "execute_result",
     "data": {
      "text/plain": "a*a                  2\nAaaaaas*saaaaaaaa    1\ndd                   1\na                    1\nsss                  1\n                     1\nName: string, dtype: int64"
     },
     "metadata": {},
     "execution_count": 4
    }
   ],
   "source": [
    "sample.string.dvp.pattern_counts()"
   ]
  }
 ],
 "metadata": {
  "language_info": {
   "codemirror_mode": {
    "name": "ipython",
    "version": 3
   },
   "file_extension": ".py",
   "mimetype": "text/x-python",
   "name": "python",
   "nbconvert_exporter": "python",
   "pygments_lexer": "ipython3",
   "version": "3.6.8-final"
  },
  "orig_nbformat": 2,
  "kernelspec": {
   "name": "python36564bitbaseconda02f22eab5fcb45c1bf12ff988ebb8887",
   "display_name": "Python 3.6.5 64-bit ('base': conda)"
  }
 },
 "nbformat": 4,
 "nbformat_minor": 2
}